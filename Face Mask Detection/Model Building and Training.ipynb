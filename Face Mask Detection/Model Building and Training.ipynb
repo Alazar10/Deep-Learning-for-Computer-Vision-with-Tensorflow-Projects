{
 "cells": [
  {
   "cell_type": "code",
   "execution_count": 1,
   "metadata": {},
   "outputs": [
    {
     "data": {
      "text/plain": [
       "(13172, 256, 256, 1)"
      ]
     },
     "execution_count": 1,
     "metadata": {},
     "output_type": "execute_result"
    }
   ],
   "source": [
    "import numpy as np\n",
    "\n",
    "data=np.load('data.npy')\n",
    "target=np.load('target.npy')\n",
    "data.shape\n",
    "\n",
    "#loading the save numpy arrays in the previous code"
   ]
  },
  {
   "cell_type": "code",
   "execution_count": null,
   "metadata": {},
   "outputs": [],
   "source": [
    "import tensorflow as tf ### Models\n",
    "import matplotlib.pyplot as plt ### Plotting Bar Chart\n",
    "import numpy as np ### Maths Computations\n",
    "from tensorflow.keras.models import Model\n",
    "from tensorflow.keras.layers import Conv2D, MaxPool2D, Dense, Flatten, InputLayer, BatchNormalization, Input\n",
    "from tensorflow.keras.optimizers import Adam\n",
    "from tensorflow.keras.losses import BinaryCrossentropy\n",
    "import matplotlib.pyplot as plt"
   ]
  },
  {
   "cell_type": "code",
   "execution_count": null,
   "metadata": {},
   "outputs": [
    {
     "name": "stdout",
     "output_type": "stream",
     "text": [
      "Model: \"sequential_1\"\n",
      "_________________________________________________________________\n",
      " Layer (type)                Output Shape              Param #   \n",
      "=================================================================\n",
      " conv2d_4 (Conv2D)           (None, 98, 98, 6)         60        \n",
      "                                                                 \n",
      " batch_normalization_4 (Bat  (None, 98, 98, 6)         24        \n",
      " chNormalization)                                                \n",
      "                                                                 \n",
      " max_pooling2d_4 (MaxPoolin  (None, 49, 49, 6)         0         \n",
      " g2D)                                                            \n",
      "                                                                 \n",
      " conv2d_5 (Conv2D)           (None, 47, 47, 16)        880       \n",
      "                                                                 \n",
      " batch_normalization_5 (Bat  (None, 47, 47, 16)        64        \n",
      " chNormalization)                                                \n",
      "                                                                 \n",
      " max_pooling2d_5 (MaxPoolin  (None, 23, 23, 16)        0         \n",
      " g2D)                                                            \n",
      "                                                                 \n",
      " conv2d_6 (Conv2D)           (None, 21, 21, 32)        4640      \n",
      "                                                                 \n",
      " batch_normalization_6 (Bat  (None, 21, 21, 32)        128       \n",
      " chNormalization)                                                \n",
      "                                                                 \n",
      " max_pooling2d_6 (MaxPoolin  (None, 10, 10, 32)        0         \n",
      " g2D)                                                            \n",
      "                                                                 \n",
      " flatten_1 (Flatten)         (None, 3200)              0         \n",
      "                                                                 \n",
      " dense_4 (Dense)             (None, 200)               640200    \n",
      "                                                                 \n",
      " batch_normalization_7 (Bat  (None, 200)               800       \n",
      " chNormalization)                                                \n",
      "                                                                 \n",
      " dense_5 (Dense)             (None, 100)               20100     \n",
      "                                                                 \n",
      " batch_normalization_8 (Bat  (None, 100)               400       \n",
      " chNormalization)                                                \n",
      "                                                                 \n",
      " dense_6 (Dense)             (None, 10)                1010      \n",
      "                                                                 \n",
      " batch_normalization_9 (Bat  (None, 10)                40        \n",
      " chNormalization)                                                \n",
      "                                                                 \n",
      " dense_7 (Dense)             (None, 2)                 22        \n",
      "                                                                 \n",
      "=================================================================\n",
      "Total params: 668368 (2.55 MB)\n",
      "Trainable params: 667640 (2.55 MB)\n",
      "Non-trainable params: 728 (2.84 KB)\n",
      "_________________________________________________________________\n"
     ]
    }
   ],
   "source": [
    "Model1 = tf.keras.Sequential([\n",
    "    InputLayer(input_shape = data.shape[1:]),\n",
    "\n",
    "    Conv2D(filters = 6, kernel_size = 3, strides = 1, padding = 'valid', activation = 'relu'),\n",
    "    BatchNormalization(),\n",
    "    MaxPool2D(pool_size = 2, strides = 2),\n",
    "\n",
    "    Conv2D(filters = 16, kernel_size = 3, strides = 1, padding = 'valid', activation = 'relu'),\n",
    "    BatchNormalization(),\n",
    "    MaxPool2D(pool_size = 2, strides = 2),\n",
    "\n",
    "    Conv2D(filters = 32, kernel_size = 3, strides = 1, padding = 'valid', activation = 'relu'),\n",
    "    BatchNormalization(),\n",
    "    MaxPool2D(pool_size = 2, strides = 2),\n",
    "\n",
    "    Flatten(), \n",
    "\n",
    "    Dense(200, activation = 'relu'),\n",
    "    BatchNormalization(),\n",
    "    Dense(100, activation = 'relu'),\n",
    "    BatchNormalization(),\n",
    "    Dense(10, activation = 'relu'),\n",
    "    BatchNormalization(),\n",
    "    Dense(2, activation = 'softmax')\n",
    "])\n",
    "Model1.summary()"
   ]
  },
  {
   "cell_type": "code",
   "execution_count": null,
   "metadata": {},
   "outputs": [],
   "source": [
    "Model1.compile(loss='categorical_crossentropy',optimizer='adam',metrics=['accuracy'])"
   ]
  },
  {
   "cell_type": "code",
   "execution_count": null,
   "metadata": {},
   "outputs": [],
   "source": [
    "import tensorflow as tf ### Models\n",
    "from tensorflow.keras.layers import Conv2D, MaxPooling2D, GlobalAveragePooling2D, Dense, Flatten, InputLayer, BatchNormalization, Input, Layer, Add, Activation\n",
    "from tensorflow.keras.models import Model \n",
    "\n",
    "class CustomConv2D(Layer):\n",
    "  def __init__(self, n_filters, kernel_size, n_strides, padding = 'valid'):\n",
    "    super(CustomConv2D, self).__init__(name = 'custom_conv2d')\n",
    "\n",
    "    self.conv = Conv2D(\n",
    "        filters = n_filters,\n",
    "        kernel_size = kernel_size,\n",
    "        activation = 'relu',\n",
    "        strides = n_strides,\n",
    "        padding = padding)\n",
    "    \n",
    "    self.batch_norm = BatchNormalization()\n",
    "\n",
    "  def call(self, x, training = True):\n",
    "\n",
    "    x = self.conv(x)\n",
    "    x = self.batch_norm(x, training)\n",
    "\n",
    "    return x"
   ]
  },
  {
   "cell_type": "code",
   "execution_count": null,
   "metadata": {},
   "outputs": [],
   "source": [
    "class ResidualBlock(Layer):\n",
    "  def __init__(self, n_channels, n_strides = 1):\n",
    "    super(ResidualBlock, self).__init__(name = 'res_block')\n",
    "\n",
    "    self.dotted = (n_strides != 1)\n",
    "\n",
    "    \n",
    "\n",
    "    self.custom_conv_1 = CustomConv2D(n_channels, 3, n_strides, padding = \"same\")\n",
    "    self.custom_conv_2 = CustomConv2D(n_channels, 3, 1, padding = \"same\")\n",
    "\n",
    "    self.activation = Activation('relu')\n",
    "\n",
    "    if self.dotted:\n",
    "      self.custom_conv_3 = CustomConv2D(n_channels, 1, n_strides)\n",
    "    \n",
    "  def call(self, input, training):\n",
    "\n",
    "    x = self.custom_conv_1(input)\n",
    "    x = self.custom_conv_2(x)\n",
    "\n",
    "    if self.dotted:\n",
    "      x_add = self.custom_conv_3(input)\n",
    "      x_add = Add()([x, x_add])\n",
    "    else:\n",
    "      x_add = Add()([x])\n",
    "\n",
    "    return self.activation(x_add)\n"
   ]
  },
  {
   "cell_type": "code",
   "execution_count": null,
   "metadata": {},
   "outputs": [],
   "source": [
    "class ResNet34(Model):\n",
    "  def __init__(self):\n",
    "    super(ResNet34, self).__init__(name = 'resnet_34')\n",
    "    \n",
    "\n",
    "    self.conv_1 = CustomConv2D(64, 7, 2, padding = 'same')\n",
    "    self.max_pool = MaxPooling2D(3,2)\n",
    "    \n",
    "    self.conv_2_1 = ResidualBlock(64)\n",
    "    self.conv_2_2 = ResidualBlock(64)\n",
    "    self.conv_2_3 = ResidualBlock(64)\n",
    "    \n",
    "    self.conv_3_1 = ResidualBlock(128, 2)\n",
    "    self.conv_3_2 = ResidualBlock(128)\n",
    "    self.conv_3_3 = ResidualBlock(128)\n",
    "    self.conv_3_4 = ResidualBlock(128)\n",
    "\n",
    "    self.conv_4_1 = ResidualBlock(256, 2)\n",
    "    self.conv_4_2 = ResidualBlock(256)\n",
    "    self.conv_4_3 = ResidualBlock(256)\n",
    "    self.conv_4_4 = ResidualBlock(256)\n",
    "    self.conv_4_5 = ResidualBlock(256)\n",
    "    self.conv_4_6 = ResidualBlock(256)\n",
    "    \n",
    "    self.conv_5_1 = ResidualBlock(512, 2)\n",
    "    self.conv_5_2 = ResidualBlock(512)\n",
    "    self.conv_5_3 = ResidualBlock(512)\n",
    "\n",
    "    self.global_pool = GlobalAveragePooling2D()\n",
    "\n",
    "    self.fc_3 = Dense(2, activation = 'softmax')\n",
    "    \n",
    "  def call(self, x):\n",
    "    \n",
    "    x = self.conv_1(x)\n",
    "    x = self.max_pool(x)\n",
    "\n",
    "    x = self.conv_2_1(x)\n",
    "    x = self.conv_2_2(x)\n",
    "    x = self.conv_2_3(x)\n",
    "    \n",
    "    x = self.conv_3_1(x)\n",
    "    x = self.conv_3_2(x)\n",
    "    x = self.conv_3_3(x)\n",
    "    x = self.conv_3_4(x)\n",
    "    \n",
    "    x = self.conv_4_1(x)\n",
    "    x = self.conv_4_2(x)\n",
    "    x = self.conv_4_3(x)\n",
    "    x = self.conv_4_4(x)\n",
    "    x = self.conv_4_5(x)\n",
    "    x = self.conv_4_6(x)\n",
    "    \n",
    "    x = self.conv_5_1(x)\n",
    "    x = self.conv_5_2(x)\n",
    "    x = self.conv_5_3(x)\n",
    "\n",
    "    x = self.global_pool(x)\n",
    "    \n",
    "    return self.fc_3(x)\n",
    "     \n",
    "\n",
    "\n",
    "\n",
    "\n"
   ]
  },
  {
   "cell_type": "code",
   "execution_count": null,
   "metadata": {},
   "outputs": [
    {
     "name": "stdout",
     "output_type": "stream",
     "text": [
      "Model: \"resnet_34\"\n",
      "_________________________________________________________________\n",
      " Layer (type)                Output Shape              Param #   \n",
      "=================================================================\n",
      " custom_conv2d (CustomConv2  multiple                  3456      \n",
      " D)                                                              \n",
      "                                                                 \n",
      " max_pooling2d_24 (MaxPooli  multiple                  0         \n",
      " ng2D)                                                           \n",
      "                                                                 \n",
      " res_block (ResidualBlock)   multiple                  74368     \n",
      "                                                                 \n",
      " res_block (ResidualBlock)   multiple                  74368     \n",
      "                                                                 \n",
      " res_block (ResidualBlock)   multiple                  74368     \n",
      "                                                                 \n",
      " res_block (ResidualBlock)   multiple                  231296    \n",
      "                                                                 \n",
      " res_block (ResidualBlock)   multiple                  296192    \n",
      "                                                                 \n",
      " res_block (ResidualBlock)   multiple                  296192    \n",
      "                                                                 \n",
      " res_block (ResidualBlock)   multiple                  296192    \n",
      "                                                                 \n",
      " res_block (ResidualBlock)   multiple                  921344    \n",
      "                                                                 \n",
      " res_block (ResidualBlock)   multiple                  1182208   \n",
      "                                                                 \n",
      " res_block (ResidualBlock)   multiple                  1182208   \n",
      "                                                                 \n",
      " res_block (ResidualBlock)   multiple                  1182208   \n",
      "                                                                 \n",
      " res_block (ResidualBlock)   multiple                  1182208   \n",
      "                                                                 \n",
      " res_block (ResidualBlock)   multiple                  1182208   \n",
      "                                                                 \n",
      " res_block (ResidualBlock)   multiple                  3677696   \n",
      "                                                                 \n",
      " res_block (ResidualBlock)   multiple                  4723712   \n",
      "                                                                 \n",
      " res_block (ResidualBlock)   multiple                  4723712   \n",
      "                                                                 \n",
      " global_average_pooling2d_1  multiple                  0         \n",
      " 7 (GlobalAveragePooling2D)                                      \n",
      "                                                                 \n",
      " dense_19 (Dense)            multiple                  1026      \n",
      "                                                                 \n",
      "=================================================================\n",
      "Total params: 21304962 (81.27 MB)\n",
      "Trainable params: 21287938 (81.21 MB)\n",
      "Non-trainable params: 17024 (66.50 KB)\n",
      "_________________________________________________________________\n"
     ]
    }
   ],
   "source": [
    "resnet_34 = ResNet34()\n",
    "resnet_34(tf.zeros([1, 256, 256, 1]), training = False)\n",
    "resnet_34.summary()"
   ]
  },
  {
   "cell_type": "code",
   "execution_count": null,
   "metadata": {},
   "outputs": [],
   "source": [
    "from sklearn.model_selection import train_test_split\n",
    "\n",
    "train_data,test_data,train_target,test_target=train_test_split(data,target,test_size=0.1)\n"
   ]
  },
  {
   "cell_type": "code",
   "execution_count": null,
   "metadata": {},
   "outputs": [],
   "source": [
    "resnet_34.compile(loss='categorical_crossentropy',optimizer='adam',metrics=['accuracy'])"
   ]
  },
  {
   "cell_type": "code",
   "execution_count": null,
   "metadata": {},
   "outputs": [
    {
     "name": "stdout",
     "output_type": "stream",
     "text": [
      "Num TPUs Available:  0\n"
     ]
    }
   ],
   "source": [
    "print(\"Num TPUs Available: \", len(tf.config.list_physical_devices('TPU')))"
   ]
  },
  {
   "cell_type": "code",
   "execution_count": null,
   "metadata": {},
   "outputs": [
    {
     "name": "stdout",
     "output_type": "stream",
     "text": [
      "Epoch 1/10\n",
      "297/297 [==============================] - ETA: 0s - loss: 0.5158 - accuracy: 0.7947 INFO:tensorflow:Assets written to: model-001.model\\assets\n"
     ]
    },
    {
     "name": "stderr",
     "output_type": "stream",
     "text": [
      "INFO:tensorflow:Assets written to: model-001.model\\assets\n"
     ]
    },
    {
     "name": "stdout",
     "output_type": "stream",
     "text": [
      "297/297 [==============================] - 4586s 15s/step - loss: 0.5158 - accuracy: 0.7947 - val_loss: 1.1217 - val_accuracy: 0.4665\n",
      "Epoch 2/10\n",
      "297/297 [==============================] - ETA: 0s - loss: 0.2494 - accuracy: 0.9014 INFO:tensorflow:Assets written to: model-002.model\\assets\n"
     ]
    },
    {
     "name": "stderr",
     "output_type": "stream",
     "text": [
      "INFO:tensorflow:Assets written to: model-002.model\\assets\n"
     ]
    },
    {
     "name": "stdout",
     "output_type": "stream",
     "text": [
      "297/297 [==============================] - 3486s 12s/step - loss: 0.2494 - accuracy: 0.9014 - val_loss: 0.6589 - val_accuracy: 0.6858\n",
      "Epoch 3/10\n",
      "297/297 [==============================] - ETA: 0s - loss: 0.1769 - accuracy: 0.9330 INFO:tensorflow:Assets written to: model-003.model\\assets\n"
     ]
    },
    {
     "name": "stderr",
     "output_type": "stream",
     "text": [
      "INFO:tensorflow:Assets written to: model-003.model\\assets\n"
     ]
    },
    {
     "name": "stdout",
     "output_type": "stream",
     "text": [
      "297/297 [==============================] - 4509s 15s/step - loss: 0.1769 - accuracy: 0.9330 - val_loss: 0.3757 - val_accuracy: 0.8511\n",
      "Epoch 4/10\n",
      "297/297 [==============================] - 4305s 15s/step - loss: 0.1348 - accuracy: 0.9495 - val_loss: 1.9512 - val_accuracy: 0.4627\n",
      "Epoch 5/10\n",
      "297/297 [==============================] - ETA: 0s - loss: 0.1268 - accuracy: 0.9544INFO:tensorflow:Assets written to: model-005.model\\assets\n"
     ]
    },
    {
     "name": "stderr",
     "output_type": "stream",
     "text": [
      "INFO:tensorflow:Assets written to: model-005.model\\assets\n"
     ]
    },
    {
     "name": "stdout",
     "output_type": "stream",
     "text": [
      "297/297 [==============================] - 2944s 10s/step - loss: 0.1268 - accuracy: 0.9544 - val_loss: 0.3197 - val_accuracy: 0.8676\n",
      "Epoch 6/10\n",
      "297/297 [==============================] - 2789s 9s/step - loss: 0.1020 - accuracy: 0.9621 - val_loss: 0.3441 - val_accuracy: 0.9072\n",
      "Epoch 7/10\n",
      "297/297 [==============================] - 3051s 10s/step - loss: 0.0842 - accuracy: 0.9698 - val_loss: 0.4650 - val_accuracy: 0.8102\n",
      "Epoch 8/10\n",
      "297/297 [==============================] - 3792s 13s/step - loss: 0.0688 - accuracy: 0.9761 - val_loss: 0.7001 - val_accuracy: 0.8292\n",
      "Epoch 9/10\n",
      "297/297 [==============================] - 3363s 11s/step - loss: 0.0768 - accuracy: 0.9713 - val_loss: 0.3968 - val_accuracy: 0.8908\n",
      "Epoch 10/10\n",
      "297/297 [==============================] - ETA: 0s - loss: 0.0615 - accuracy: 0.9777INFO:tensorflow:Assets written to: model-010.model\\assets\n"
     ]
    },
    {
     "name": "stderr",
     "output_type": "stream",
     "text": [
      "INFO:tensorflow:Assets written to: model-010.model\\assets\n"
     ]
    },
    {
     "name": "stdout",
     "output_type": "stream",
     "text": [
      "297/297 [==============================] - 3152s 11s/step - loss: 0.0615 - accuracy: 0.9777 - val_loss: 0.0742 - val_accuracy: 0.9722\n"
     ]
    }
   ],
   "source": [
    "checkpoint = ModelCheckpoint('model-{epoch:03d}.model',monitor='val_loss',verbose=0,save_best_only=True,mode='auto')\n",
    "history=resnet_34.fit(train_data,train_target,epochs=10,callbacks=[checkpoint],validation_split=0.2)"
   ]
  },
  {
   "cell_type": "code",
   "execution_count": null,
   "metadata": {},
   "outputs": [
    {
     "data": {
      "image/png": "[encoded data removed]",
      "text/plain": [
       "<Figure size 640x480 with 1 Axes>"
      ]
     },
     "metadata": {},
     "output_type": "display_data"
    }
   ],
   "source": [
    "from matplotlib import pyplot as plt\n",
    "\n",
    "plt.plot(history.history['loss'],'r',label='training loss')\n",
    "plt.plot(history.history['val_loss'],label='validation loss')\n",
    "plt.xlabel('# epochs')\n",
    "plt.ylabel('loss')\n",
    "plt.legend()\n",
    "plt.show()"
   ]
  },
  {
   "cell_type": "code",
   "execution_count": null,
   "metadata": {},
   "outputs": [
    {
     "data": {
      "image/png": "[encoded data removed]",
      "text/plain": [
       "<Figure size 640x480 with 1 Axes>"
      ]
     },
     "metadata": {},
     "output_type": "display_data"
    }
   ],
   "source": [
    "plt.plot(history.history['accuracy'],'r',label='training accuracy')\n",
    "plt.plot(history.history['val_accuracy'],label='validation accuracy')\n",
    "plt.xlabel('# epochs')\n",
    "plt.ylabel('loss')\n",
    "plt.legend()\n",
    "plt.show()"
   ]
  },
  {
   "cell_type": "code",
   "execution_count": null,
   "metadata": {},
   "outputs": [
    {
     "name": "stdout",
     "output_type": "stream",
     "text": [
      "42/42 [==============================] - 136s 3s/step - loss: 0.1123 - accuracy: 0.9643\n",
      "[0.11230519413948059, 0.9643399119377136]\n"
     ]
    }
   ],
   "source": [
    "print(resnet_34.evaluate(test_data,test_target))"
   ]
  },
  {
   "cell_type": "code",
   "execution_count": null,
   "metadata": {},
   "outputs": [
    {
     "name": "stdout",
     "output_type": "stream",
     "text": [
      "INFO:tensorflow:Assets written to: 1ResNet34_best.tf\\assets\n"
     ]
    },
    {
     "name": "stderr",
     "output_type": "stream",
     "text": [
      "INFO:tensorflow:Assets written to: 1ResNet34_best.tf\\assets\n"
     ]
    }
   ],
   "source": [
    "resnet_34.save('1ResNet34_best.tf')"
   ]
  }
 ],
 "metadata": {
  "kernelspec": {
   "display_name": "Python 3",
   "language": "python",
   "name": "python3"
  },
  "language_info": {
   "codemirror_mode": {
    "name": "ipython",
    "version": 3
   },
   "file_extension": ".py",
   "mimetype": "text/x-python",
   "name": "python",
   "nbconvert_exporter": "python",
   "pygments_lexer": "ipython3",
   "version": "3.11.7"
  }
 },
 "nbformat": 4,
 "nbformat_minor": 2
}
